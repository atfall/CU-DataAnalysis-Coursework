{
 "cells": [
  {
   "cell_type": "markdown",
   "metadata": {},
   "source": [
    "# To be completed at the Live Session and in your own time.\n",
    "\n",
    "These set of examples we will help you get familiar with estimating probabilities and using Bayes Theorem within a Jupyter notebook. The questions coloured green are important practice for CA.\n",
    "\n",
    "Before attempting these examples, please ensure you have read through [Chapter 2 Jupyter Notebook](https://github.com/haleygomez/Data-Analysis-2022/blob/master/blended_exercises/Chapter2/Chapter2.ipynb) and have completed the Learning Central **Chapter 2 quiz**. \n",
    "\n",
    "These are good practice for CA 1 Questions 1 and 4."
   ]
  },
  {
   "cell_type": "markdown",
   "metadata": {},
   "source": [
    "***"
   ]
  },
  {
   "cell_type": "markdown",
   "metadata": {},
   "source": [
    "# Probabilities"
   ]
  },
  {
   "cell_type": "markdown",
   "metadata": {},
   "source": [
    "***"
   ]
  },
  {
   "cell_type": "markdown",
   "metadata": {},
   "source": [
    "## Question"
   ]
  },
  {
   "cell_type": "markdown",
   "metadata": {},
   "source": [
    "You want to send a document to your bank and it is very important it gets there the next day. You therefore send two copies of the document using Hermes (delivery service $A$) and the Royal Mail (delivery service $B$).  The probabilities of those companies delivering on time are:\n",
    "\n",
    "- 0.90 for service A\n",
    "- 0.80 for service B \n",
    "- 0.75 for both services being on time.\n",
    "\n",
    "Does your strategy improve the chances the document will be delivered on time? "
   ]
  },
  {
   "cell_type": "markdown",
   "metadata": {},
   "source": [
    "### Answer"
   ]
  },
  {
   "cell_type": "markdown",
   "metadata": {},
   "source": [
    "The aim is that at least one of the services makes it on time\n",
    "$\\Leftrightarrow P(A \\cup B) = P(A) + P(B) - P(A \\cap B)$"
   ]
  },
  {
   "cell_type": "code",
   "execution_count": 3,
   "metadata": {},
   "outputs": [
    {
     "name": "stdout",
     "output_type": "stream",
     "text": [
      "0.9500000000000002\n"
     ]
    }
   ],
   "source": [
    "p_a = 0.9\n",
    "p_b = 0.8\n",
    "p_a_and_b = 0.75\n",
    "\n",
    "p_a_or_b = p_a + p_b - p_a_and_b\n",
    "print(p_a_or_b)"
   ]
  },
  {
   "cell_type": "markdown",
   "metadata": {},
   "source": [
    "$\\Rightarrow P(A \\cup B) = 0.95$  \n",
    "\n",
    "$\\therefore$ This stratergy does improve the chances that the document will be delivered on time."
   ]
  },
  {
   "cell_type": "markdown",
   "metadata": {},
   "source": [
    "***"
   ]
  },
  {
   "cell_type": "markdown",
   "metadata": {},
   "source": [
    "## <font color=#30a64d>Question</font>"
   ]
  },
  {
   "cell_type": "markdown",
   "metadata": {},
   "source": [
    "You flip a coin 5 times. What is the probability that heads will not occur 3 times?    "
   ]
  },
  {
   "cell_type": "markdown",
   "metadata": {},
   "source": [
    "### Answer"
   ]
  },
  {
   "cell_type": "markdown",
   "metadata": {},
   "source": [
    "Probability that heads will not occur 3 times $= 1 -$ Probabilitiy that 3 heads will occur\n",
    "\n",
    "Total number of flips $= 5$  \n",
    "Total number of arrangements of 5 flips $= 2^{5}$  \n",
    "Possible ways of arranging 3 heads uniquely in 5 flips $= \\frac{5 \\times 4 \\times 3}{3!}$  \n",
    "Possible ways of arranging any 3 heads in 5 flips $= \\frac{\\frac{5 \\times 4 \\times 3}{3!}}{2^{5}}$  \n",
    "\n",
    "$\\therefore$ Probability that heads will not occur 3 times $= 1 - \\frac{\\left(\\frac{5 \\times 4 \\times 3}{3!} \\right) }{2^{5}}$"
   ]
  },
  {
   "cell_type": "code",
   "execution_count": 2,
   "metadata": {},
   "outputs": [
    {
     "name": "stdout",
     "output_type": "stream",
     "text": [
      "68.75\n"
     ]
    }
   ],
   "source": [
    "n_flips = 5\n",
    "n_arr = 2**n_flips\n",
    "n_pos_hhh = (5*4*3) / (3*2*1)\n",
    "\n",
    "p_hhh = n_pos_hhh / n_arr\n",
    "p_no_hhh = 1 - p_hhh\n",
    "print(p_no_hhh * 100)"
   ]
  },
  {
   "cell_type": "markdown",
   "metadata": {},
   "source": [
    "**$\\therefore$ Probability $\\approx$ 69%**"
   ]
  },
  {
   "cell_type": "markdown",
   "metadata": {},
   "source": [
    "***"
   ]
  },
  {
   "cell_type": "markdown",
   "metadata": {},
   "source": [
    "# Bayes Theorem"
   ]
  },
  {
   "cell_type": "markdown",
   "metadata": {},
   "source": [
    "## <font color=#30a64d>Question</font>"
   ]
  },
  {
   "cell_type": "markdown",
   "metadata": {},
   "source": [
    "Suppose you think you have a rare disease where 1 in 10,000 people are affected. You go to your doctor, and she performs a test. The test is of a high quality, and is correct 99% of the time.\n",
    "\n",
    "Unfortunately your results come back positive for the disease. What is your chance of having the disease? Is it (roughly): <br><br>\n",
    "\n",
    "a) 99% <br>\n",
    "b) 90% <br>\n",
    "c) 10% or <br>\n",
    "d) 1%? <br> <br>\n",
    "\n",
    "Repeat the same as above, but change 1 in 10,000 to 1 in 100. What would the chances of having the disease be now?"
   ]
  },
  {
   "cell_type": "markdown",
   "metadata": {},
   "source": [
    "### Answer"
   ]
  },
  {
   "cell_type": "markdown",
   "metadata": {},
   "source": [
    "A = Having Disease  \n",
    "B = Positive Test\n",
    "\n",
    "$P(A|B) = \\frac{P(B|A) \\times P(A)}{P(B|A) \\times P(A)+P(B|\\neg A) \\times P(\\neg A)}$"
   ]
  },
  {
   "cell_type": "code",
   "execution_count": 2,
   "metadata": {},
   "outputs": [
    {
     "name": "stdout",
     "output_type": "stream",
     "text": [
      "0.9803921568627451\n"
     ]
    }
   ],
   "source": [
    "p_disease = 1/10000\n",
    "p_pos = 0.99\n",
    "p_pos_given_disease = 0.99\n",
    "p_pos_given_no_disease = 0.01\n",
    "\n",
    "n = 1000000\n",
    "n_disease = n * p_disease\n",
    "n_no_disease = n - n_disease\n",
    "n_pos_given_disease = n_disease * p_pos\n",
    "n_pos_given_no_disease = n_no_disease * (1-p_pos)\n",
    "\n",
    "p_disease_given_pos = (p_pos_given_disease*p_disease) / ((p_pos_given_disease*p_disease)+(p_pos_given_no_disease*(1-p_disease)))\n",
    "print(p_disease_given_pos * 100)"
   ]
  },
  {
   "cell_type": "markdown",
   "metadata": {},
   "source": [
    "**$\\therefore$ Probability $\\approx$1%**"
   ]
  },
  {
   "cell_type": "code",
   "execution_count": 3,
   "metadata": {},
   "outputs": [
    {
     "name": "stdout",
     "output_type": "stream",
     "text": [
      "50.0\n"
     ]
    }
   ],
   "source": [
    "p_disease = 1/100\n",
    "p_pos = 0.99\n",
    "p_pos_given_disease = 0.99\n",
    "p_pos_given_no_disease = 0.01\n",
    "\n",
    "n = 1000000\n",
    "n_disease = n * p_disease\n",
    "n_no_disease = n - n_disease\n",
    "n_pos_given_disease = n_disease * p_pos\n",
    "n_pos_given_no_disease = n_no_disease * (1-p_pos)\n",
    "\n",
    "p_disease_given_pos = (p_pos_given_disease*p_disease) / ((p_pos_given_disease*p_disease) + (p_pos_given_no_disease*(1-p_disease)))\n",
    "print(p_disease_given_pos * 100)"
   ]
  },
  {
   "cell_type": "markdown",
   "metadata": {},
   "source": [
    "**$\\therefore$ Probability $=$ 50%**"
   ]
  },
  {
   "cell_type": "markdown",
   "metadata": {},
   "source": [
    "## Question"
   ]
  },
  {
   "cell_type": "markdown",
   "metadata": {},
   "source": [
    "We saw in [Chapter 2 Notebook](https://github.com/haleygomez/Data-Analysis-2022/blob/master/blended_exercises/Chapter2/Chapter2.ipynb) that the probability that a couple has 2 children that are boys when the older child is a boy is 50%. \n",
    "\n",
    "What about the following scenario: a couple has two children, of which at least one is a boy. If the probabilities of having a boy or a girl are both 50%, what is the probability that the couple has two boys?\n",
    "\n",
    "At first glance, this appears to be asking the same question as in our previous notebook. We might reason as follows: “We know that one is a boy, so the only question is whether the other one is a boy, and the chances of that being the case are 50%. So again, the answer is 50%.”\n",
    "\n",
    "Although this sounds common sense, it is incorrect.  Show why."
   ]
  },
  {
   "cell_type": "markdown",
   "metadata": {},
   "source": [
    "### Answer"
   ]
  },
  {
   "cell_type": "markdown",
   "metadata": {},
   "source": [
    "$P(A|B) = \\frac{P(B|A) \\times P(A)}{P(B)}$"
   ]
  },
  {
   "cell_type": "code",
   "execution_count": 7,
   "metadata": {},
   "outputs": [
    {
     "name": "stdout",
     "output_type": "stream",
     "text": [
      "33.33333333333333\n"
     ]
    }
   ],
   "source": [
    "p_2b = 1/4\n",
    "p_bg = 1/4\n",
    "p_gb = 1/4\n",
    "p_gg = 1/4\n",
    "p_1b = p_bg + p_gb + p_2b\n",
    "\n",
    "p_b_given_2b = 1\n",
    "#p_b_given_not_2b = (p_1b - (p_1b * (1-p_2b))) / (1-p_2b)  # P(A|!B) = P(A)-(P(A)*P(!B)) / P(!B)\n",
    "\n",
    "p_2b_given_b = (p_b_given_2b*p_2b) / p_1b\n",
    "print(p_2b_given_b * 100)"
   ]
  },
  {
   "cell_type": "markdown",
   "metadata": {},
   "source": [
    "**$\\therefore$ Probability $\\approx$ 33%**"
   ]
  }
 ],
 "metadata": {
  "kernelspec": {
   "display_name": "Python 3",
   "language": "python",
   "name": "python3"
  },
  "language_info": {
   "codemirror_mode": {
    "name": "ipython",
    "version": 3
   },
   "file_extension": ".py",
   "mimetype": "text/x-python",
   "name": "python",
   "nbconvert_exporter": "python",
   "pygments_lexer": "ipython3",
   "version": "3.6.6+"
  }
 },
 "nbformat": 4,
 "nbformat_minor": 2
}
